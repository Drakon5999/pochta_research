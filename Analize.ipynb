{
 "cells": [
  {
   "cell_type": "code",
   "execution_count": 163,
   "metadata": {},
   "outputs": [],
   "source": [
    "import numpy as np\n",
    "import pandas as pd\n",
    "import matplotlib.pyplot as plt\n",
    "\n",
    "import json"
   ]
  },
  {
   "cell_type": "code",
   "execution_count": 103,
   "metadata": {},
   "outputs": [],
   "source": [
    "data = pd.read_excel(\"./data/Батч 1.xlsx\")\n",
    "for i in range(2, 6):\n",
    "    data = data.append(pd.read_excel(\"./data/Батч {}.xlsx\".format(i)), ignore_index=True)\n",
    "    "
   ]
  },
  {
   "cell_type": "code",
   "execution_count": 212,
   "metadata": {},
   "outputs": [],
   "source": [
    "# здесь нет бандеролей\n",
    "del data[\"бандероль\"]\n",
    "del data[\"с объявл. ценностью\"]\n",
    "del data[\"с налож. платежом\"]"
   ]
  },
  {
   "cell_type": "code",
   "execution_count": 249,
   "metadata": {},
   "outputs": [],
   "source": [
    "data['сумма ОЦ (руб)'].fillna(0, inplace=True)\n",
    "data['сумма НП (руб)'].fillna(0, inplace=True)\n",
    "data.fillna(False, inplace=True)"
   ]
  },
  {
   "cell_type": "code",
   "execution_count": 219,
   "metadata": {},
   "outputs": [
    {
     "data": {
      "text/html": [
       "<div>\n",
       "<style scoped>\n",
       "    .dataframe tbody tr th:only-of-type {\n",
       "        vertical-align: middle;\n",
       "    }\n",
       "\n",
       "    .dataframe tbody tr th {\n",
       "        vertical-align: top;\n",
       "    }\n",
       "\n",
       "    .dataframe thead th {\n",
       "        text-align: right;\n",
       "    }\n",
       "</style>\n",
       "<table border=\"1\" class=\"dataframe\">\n",
       "  <thead>\n",
       "    <tr style=\"text-align: right;\">\n",
       "      <th></th>\n",
       "      <th>hid</th>\n",
       "      <th>дата оформления</th>\n",
       "      <th>индекс отправителя</th>\n",
       "      <th>индекс получателя</th>\n",
       "      <th>вес (гр)</th>\n",
       "      <th>стоимость (руб,коп)</th>\n",
       "      <th>сумма ОЦ (руб)</th>\n",
       "      <th>сумма НП (руб)</th>\n",
       "      <th>безбланковая отправка</th>\n",
       "      <th>ускоренное</th>\n",
       "      <th>международное</th>\n",
       "      <th>с описью вложений</th>\n",
       "      <th>отметка 'Осторожно'</th>\n",
       "      <th>sms для отправителя</th>\n",
       "      <th>sms для получателя</th>\n",
       "    </tr>\n",
       "  </thead>\n",
       "  <tbody>\n",
       "    <tr>\n",
       "      <th>0</th>\n",
       "      <td>17279630-2e29-4a0d-8f96-f3c932e6bbcb</td>\n",
       "      <td>2020-07-05 00:00:26.036000</td>\n",
       "      <td>109469</td>\n",
       "      <td>107241</td>\n",
       "      <td>100.0</td>\n",
       "      <td>173.0</td>\n",
       "      <td>0.0</td>\n",
       "      <td>0.0</td>\n",
       "      <td>False</td>\n",
       "      <td>True</td>\n",
       "      <td>False</td>\n",
       "      <td>False</td>\n",
       "      <td>False</td>\n",
       "      <td>False</td>\n",
       "      <td>False</td>\n",
       "    </tr>\n",
       "    <tr>\n",
       "      <th>1</th>\n",
       "      <td>16971e43-728a-4f66-a93c-3678aa8433cd</td>\n",
       "      <td>2020-07-05 00:03:17.229000</td>\n",
       "      <td>390039</td>\n",
       "      <td>125284</td>\n",
       "      <td>1100.0</td>\n",
       "      <td>238.0</td>\n",
       "      <td>0.0</td>\n",
       "      <td>0.0</td>\n",
       "      <td>True</td>\n",
       "      <td>False</td>\n",
       "      <td>False</td>\n",
       "      <td>False</td>\n",
       "      <td>False</td>\n",
       "      <td>False</td>\n",
       "      <td>False</td>\n",
       "    </tr>\n",
       "    <tr>\n",
       "      <th>2</th>\n",
       "      <td>16d739fa-ca72-4b12-b8a1-ae5d91df945f</td>\n",
       "      <td>2020-07-05 00:11:47.671000</td>\n",
       "      <td>111250</td>\n",
       "      <td>670033</td>\n",
       "      <td>100.0</td>\n",
       "      <td>173.0</td>\n",
       "      <td>0.0</td>\n",
       "      <td>0.0</td>\n",
       "      <td>True</td>\n",
       "      <td>True</td>\n",
       "      <td>False</td>\n",
       "      <td>False</td>\n",
       "      <td>False</td>\n",
       "      <td>False</td>\n",
       "      <td>False</td>\n",
       "    </tr>\n",
       "    <tr>\n",
       "      <th>3</th>\n",
       "      <td>8182829</td>\n",
       "      <td>2020-07-05 00:12:50.965000</td>\n",
       "      <td>105173</td>\n",
       "      <td>183035</td>\n",
       "      <td>2262.0</td>\n",
       "      <td>363.0</td>\n",
       "      <td>0.0</td>\n",
       "      <td>0.0</td>\n",
       "      <td>False</td>\n",
       "      <td>False</td>\n",
       "      <td>False</td>\n",
       "      <td>False</td>\n",
       "      <td>False</td>\n",
       "      <td>False</td>\n",
       "      <td>False</td>\n",
       "    </tr>\n",
       "    <tr>\n",
       "      <th>4</th>\n",
       "      <td>1645b790-f6f9-4c3f-b92b-eae34e781784</td>\n",
       "      <td>2020-07-05 00:13:05.474000</td>\n",
       "      <td>195197</td>\n",
       "      <td>184209</td>\n",
       "      <td>1905.0</td>\n",
       "      <td>338.0</td>\n",
       "      <td>0.0</td>\n",
       "      <td>0.0</td>\n",
       "      <td>False</td>\n",
       "      <td>False</td>\n",
       "      <td>False</td>\n",
       "      <td>False</td>\n",
       "      <td>False</td>\n",
       "      <td>False</td>\n",
       "      <td>False</td>\n",
       "    </tr>\n",
       "  </tbody>\n",
       "</table>\n",
       "</div>"
      ],
      "text/plain": [
       "                                    hid             дата оформления  \\\n",
       "0  17279630-2e29-4a0d-8f96-f3c932e6bbcb  2020-07-05 00:00:26.036000   \n",
       "1  16971e43-728a-4f66-a93c-3678aa8433cd  2020-07-05 00:03:17.229000   \n",
       "2  16d739fa-ca72-4b12-b8a1-ae5d91df945f  2020-07-05 00:11:47.671000   \n",
       "3                               8182829  2020-07-05 00:12:50.965000   \n",
       "4  1645b790-f6f9-4c3f-b92b-eae34e781784  2020-07-05 00:13:05.474000   \n",
       "\n",
       "   индекс отправителя  индекс получателя  вес (гр)  стоимость (руб,коп)  \\\n",
       "0              109469             107241     100.0                173.0   \n",
       "1              390039             125284    1100.0                238.0   \n",
       "2              111250             670033     100.0                173.0   \n",
       "3              105173             183035    2262.0                363.0   \n",
       "4              195197             184209    1905.0                338.0   \n",
       "\n",
       "   сумма ОЦ (руб)  сумма НП (руб)  безбланковая отправка ускоренное  \\\n",
       "0             0.0             0.0                  False       True   \n",
       "1             0.0             0.0                   True      False   \n",
       "2             0.0             0.0                   True       True   \n",
       "3             0.0             0.0                  False      False   \n",
       "4             0.0             0.0                  False      False   \n",
       "\n",
       "   международное с описью вложений  отметка 'Осторожно' sms для отправителя  \\\n",
       "0          False             False                False               False   \n",
       "1          False             False                False               False   \n",
       "2          False             False                False               False   \n",
       "3          False             False                False               False   \n",
       "4          False             False                False               False   \n",
       "\n",
       "  sms для получателя  \n",
       "0              False  \n",
       "1              False  \n",
       "2              False  \n",
       "3              False  \n",
       "4              False  "
      ]
     },
     "execution_count": 219,
     "metadata": {},
     "output_type": "execute_result"
    }
   ],
   "source": [
    "data.head()"
   ]
  },
  {
   "cell_type": "code",
   "execution_count": 159,
   "metadata": {},
   "outputs": [],
   "source": [
    "def append_region_id(data, index_column):\n",
    "    # определяем почтовый район -- первые 3 цифры индекса\n",
    "    res = data.copy()\n",
    "    res[\"район {}\".format(index_column.split()[1])] = [str(x)[:3] for x in res[index_column]]\n",
    "    return res"
   ]
  },
  {
   "cell_type": "code",
   "execution_count": 160,
   "metadata": {},
   "outputs": [],
   "source": [
    "def split_databases(data):\n",
    "    # попытка определить из какой базы строка\n",
    "    res = data.copy()\n",
    "    res[\"secondDB\"] = [isinstance(x, int) for x in res[\"hid\"]]\n",
    "    return res"
   ]
  },
  {
   "cell_type": "code",
   "execution_count": 245,
   "metadata": {},
   "outputs": [],
   "source": [
    "def add_region_and_city_name(data):\n",
    "    # получаем названия города и региона по индексу\n",
    "    res = data.copy()\n",
    "    with open('data/p2a.json', encoding='utf8') as f:\n",
    "        p2a = json.load(f)\n",
    "    \n",
    "    for point in ['отправителя', 'получателя']:\n",
    "        res['регион {}'.format(point)] = [p2a.get(x)['region']\n",
    "                                          if p2a.get(x) else str(x)[:3]\n",
    "                                          for x in res['индекс {}'.format(point)].astype(str)]\n",
    "        res['город {}'.format(point)] = [(p2a.get(x)['subregion']\n",
    "                                    if 'subregion' in p2a.get(x)\n",
    "                                    else p2a.get(x)['locality']\n",
    "                                    if 'locality' in p2a.get(x)\n",
    "                                    else p2a.get(x)['region'])\n",
    "                                    if p2a.get(x) else str(x)[:3]\n",
    "                                    for x in res['индекс {}'.format(point)].astype(str)]\n",
    "        \n",
    "        res.dropna(subset=['город {}'.format(point)], inplace=True)\n",
    "    return res\n",
    "    "
   ]
  },
  {
   "cell_type": "code",
   "execution_count": 250,
   "metadata": {},
   "outputs": [],
   "source": [
    "new_data = append_region_id(data, \"индекс отправителя\")\n",
    "new_data = append_region_id(new_data, \"индекс получателя\")\n",
    "new_data = split_databases(new_data)\n",
    "\n",
    "new_data_regions = add_region_and_city_name(new_data)"
   ]
  },
  {
   "cell_type": "code",
   "execution_count": 274,
   "metadata": {},
   "outputs": [
    {
     "name": "stdout",
     "output_type": "stream",
     "text": [
      "140\n"
     ]
    }
   ],
   "source": [
    "cnts_sends = cnts_per_user.value_counts()\n",
    "cnts_send_filtered = cnts_sends\n",
    "# cnts_send_filtered.plot(kind='bar', figsize=(25, 10))\n",
    "cnts_per_user = new_data['hid'].value_counts()\n",
    "\n",
    "# сколько пользователей обеспечивают T часть оборота\n",
    "T = 0.1\n",
    "\n",
    "res = 0.0\n",
    "cnt_p = 0\n",
    "for k in cnts_send_filtered.keys()[-1::-1]:\n",
    "    res += k * cnts_send_filtered[k]\n",
    "    cnt_p += cnts_send_filtered[k]\n",
    "    if res/new_data.shape[0] > T:\n",
    "        break\n",
    "        \n",
    "print(cnt_p)"
   ]
  },
  {
   "cell_type": "code",
   "execution_count": 205,
   "metadata": {
    "scrolled": false
   },
   "outputs": [
    {
     "data": {
      "text/plain": [
       "<matplotlib.axes._subplots.AxesSubplot at 0x29cf6099710>"
      ]
     },
     "execution_count": 205,
     "metadata": {},
     "output_type": "execute_result"
    },
    {
     "data": {
      "image/png": "[encoded data removed]",
      "text/plain": [
       "<Figure size 1800x720 with 1 Axes>"
      ]
     },
     "metadata": {
      "needs_background": "light"
     },
     "output_type": "display_data"
    }
   ],
   "source": [
    "# Распределение весов\n",
    "new_data['вес (гр)'].value_counts().plot(kind='hist', figsize=(25, 10), bins=500)"
   ]
  },
  {
   "cell_type": "code",
   "execution_count": 266,
   "metadata": {},
   "outputs": [
    {
     "data": {
      "text/plain": [
       "121727"
      ]
     },
     "execution_count": 266,
     "metadata": {},
     "output_type": "execute_result"
    }
   ],
   "source": [
    "new_data[new_data[\"сумма НП (руб)\"] > 0].shape[0]"
   ]
  },
  {
   "cell_type": "code",
   "execution_count": 268,
   "metadata": {},
   "outputs": [
    {
     "data": {
      "text/plain": [
       "False"
      ]
     },
     "execution_count": 268,
     "metadata": {},
     "output_type": "execute_result"
    }
   ],
   "source": [
    "False > 0"
   ]
  },
  {
   "cell_type": "code",
   "execution_count": 272,
   "metadata": {},
   "outputs": [
    {
     "data": {
      "text/plain": [
       "0.007838199013157895"
      ]
     },
     "execution_count": 272,
     "metadata": {},
     "output_type": "execute_result"
    }
   ],
   "source": [
    "915/new_data[(new_data[\"сумма НП (руб)\"] > 0) & (new_data[\"с описью вложений\"]==False)].shape[0]"
   ]
  },
  {
   "cell_type": "code",
   "execution_count": 236,
   "metadata": {},
   "outputs": [],
   "source": [
    "with open(\"cities_send.txt\", \"w\", encoding='utf8') as f:\n",
    "    f.write(new_data_regions['город отправителя'].value_counts().to_string())\n",
    "with open(\"cities_get.txt\", \"w\", encoding='utf8') as f:\n",
    "    f.write(new_data_regions['город получателя'].value_counts().to_string())"
   ]
  },
  {
   "cell_type": "code",
   "execution_count": 252,
   "metadata": {},
   "outputs": [],
   "source": [
    "user_df = pd.DataFrame()\n",
    "for value, df in new_data_regions.groupby(\"hid\"):\n",
    "    user_data = {\n",
    "        'hid': value,\n",
    "        'count': df.shape[0],\n",
    "        'dif_index_count': len(set(df['индекс отправителя'])),\n",
    "        'avg_weight': np.mean(df['вес (гр)']),\n",
    "        'avg_cost': np.mean(df['стоимость (руб,коп)']),\n",
    "        'avg_oc': np.mean(df['сумма ОЦ (руб)']),\n",
    "        'avg_np': np.mean(df['сумма НП (руб)']),\n",
    "        'no_blank_rate': len(df[df['безбланковая отправка']])/df.shape[0],\n",
    "        'fast_rate': len(df[df['ускоренное']])/df.shape[0],\n",
    "        'dangerouse_rate': len(df[df[\"отметка 'Осторожно'\"]])/df.shape[0],\n",
    "        'sms_send_rate': len(df[df[\"sms для отправителя\"]])/df.shape[0],\n",
    "        'sms_get_rate': len(df[df[\"sms для получателя\"]])/df.shape[0],\n",
    "        \n",
    "    }\n",
    "    user_df = user_df.append(user_data, ignore_index=True)"
   ]
  },
  {
   "cell_type": "code",
   "execution_count": 255,
   "metadata": {},
   "outputs": [
    {
     "data": {
      "text/html": [
       "<div>\n",
       "<style scoped>\n",
       "    .dataframe tbody tr th:only-of-type {\n",
       "        vertical-align: middle;\n",
       "    }\n",
       "\n",
       "    .dataframe tbody tr th {\n",
       "        vertical-align: top;\n",
       "    }\n",
       "\n",
       "    .dataframe thead th {\n",
       "        text-align: right;\n",
       "    }\n",
       "</style>\n",
       "<table border=\"1\" class=\"dataframe\">\n",
       "  <thead>\n",
       "    <tr style=\"text-align: right;\">\n",
       "      <th></th>\n",
       "      <th>avg_cost</th>\n",
       "      <th>avg_np</th>\n",
       "      <th>avg_oc</th>\n",
       "      <th>avg_weight</th>\n",
       "      <th>count</th>\n",
       "      <th>dangerouse_rate</th>\n",
       "      <th>dif_index_count</th>\n",
       "      <th>fast_rate</th>\n",
       "      <th>hid</th>\n",
       "      <th>no_blank_rate</th>\n",
       "      <th>sms_get_rate</th>\n",
       "      <th>sms_send_rate</th>\n",
       "    </tr>\n",
       "  </thead>\n",
       "  <tbody>\n",
       "    <tr>\n",
       "      <th>0</th>\n",
       "      <td>251.736842</td>\n",
       "      <td>0.000000</td>\n",
       "      <td>0.000000</td>\n",
       "      <td>330.526316</td>\n",
       "      <td>19.0</td>\n",
       "      <td>0.0</td>\n",
       "      <td>1.0</td>\n",
       "      <td>0.210526</td>\n",
       "      <td>300950</td>\n",
       "      <td>1.0</td>\n",
       "      <td>0.0</td>\n",
       "      <td>0.0</td>\n",
       "    </tr>\n",
       "    <tr>\n",
       "      <th>1</th>\n",
       "      <td>230.000000</td>\n",
       "      <td>0.000000</td>\n",
       "      <td>0.000000</td>\n",
       "      <td>190.000000</td>\n",
       "      <td>1.0</td>\n",
       "      <td>0.0</td>\n",
       "      <td>1.0</td>\n",
       "      <td>1.000000</td>\n",
       "      <td>345420</td>\n",
       "      <td>0.0</td>\n",
       "      <td>0.0</td>\n",
       "      <td>0.0</td>\n",
       "    </tr>\n",
       "    <tr>\n",
       "      <th>2</th>\n",
       "      <td>272.412692</td>\n",
       "      <td>428.974359</td>\n",
       "      <td>428.974359</td>\n",
       "      <td>263.076923</td>\n",
       "      <td>78.0</td>\n",
       "      <td>0.0</td>\n",
       "      <td>1.0</td>\n",
       "      <td>0.000000</td>\n",
       "      <td>345660</td>\n",
       "      <td>1.0</td>\n",
       "      <td>0.0</td>\n",
       "      <td>0.0</td>\n",
       "    </tr>\n",
       "    <tr>\n",
       "      <th>3</th>\n",
       "      <td>179.000000</td>\n",
       "      <td>0.000000</td>\n",
       "      <td>0.000000</td>\n",
       "      <td>65.000000</td>\n",
       "      <td>1.0</td>\n",
       "      <td>0.0</td>\n",
       "      <td>1.0</td>\n",
       "      <td>1.000000</td>\n",
       "      <td>345914</td>\n",
       "      <td>1.0</td>\n",
       "      <td>0.0</td>\n",
       "      <td>0.0</td>\n",
       "    </tr>\n",
       "    <tr>\n",
       "      <th>4</th>\n",
       "      <td>356.200000</td>\n",
       "      <td>0.000000</td>\n",
       "      <td>0.000000</td>\n",
       "      <td>300.000000</td>\n",
       "      <td>1.0</td>\n",
       "      <td>1.0</td>\n",
       "      <td>1.0</td>\n",
       "      <td>0.000000</td>\n",
       "      <td>345920</td>\n",
       "      <td>0.0</td>\n",
       "      <td>0.0</td>\n",
       "      <td>0.0</td>\n",
       "    </tr>\n",
       "  </tbody>\n",
       "</table>\n",
       "</div>"
      ],
      "text/plain": [
       "     avg_cost      avg_np      avg_oc  avg_weight  count  dangerouse_rate  \\\n",
       "0  251.736842    0.000000    0.000000  330.526316   19.0              0.0   \n",
       "1  230.000000    0.000000    0.000000  190.000000    1.0              0.0   \n",
       "2  272.412692  428.974359  428.974359  263.076923   78.0              0.0   \n",
       "3  179.000000    0.000000    0.000000   65.000000    1.0              0.0   \n",
       "4  356.200000    0.000000    0.000000  300.000000    1.0              1.0   \n",
       "\n",
       "   dif_index_count  fast_rate     hid  no_blank_rate  sms_get_rate  \\\n",
       "0              1.0   0.210526  300950            1.0           0.0   \n",
       "1              1.0   1.000000  345420            0.0           0.0   \n",
       "2              1.0   0.000000  345660            1.0           0.0   \n",
       "3              1.0   1.000000  345914            1.0           0.0   \n",
       "4              1.0   0.000000  345920            0.0           0.0   \n",
       "\n",
       "   sms_send_rate  \n",
       "0            0.0  \n",
       "1            0.0  \n",
       "2            0.0  \n",
       "3            0.0  \n",
       "4            0.0  "
      ]
     },
     "execution_count": 255,
     "metadata": {},
     "output_type": "execute_result"
    }
   ],
   "source": [
    "user_df.head()"
   ]
  },
  {
   "cell_type": "code",
   "execution_count": 259,
   "metadata": {},
   "outputs": [],
   "source": [
    "from sklearn.preprocessing import normalize\n",
    "from sklearn.manifold import TSNE"
   ]
  },
  {
   "cell_type": "code",
   "execution_count": 262,
   "metadata": {},
   "outputs": [],
   "source": [
    "import seaborn as sns"
   ]
  },
  {
   "cell_type": "code",
   "execution_count": 257,
   "metadata": {},
   "outputs": [],
   "source": [
    "del user_df['hid']"
   ]
  },
  {
   "cell_type": "code",
   "execution_count": 258,
   "metadata": {},
   "outputs": [
    {
     "data": {
      "text/plain": [
       "array([[6.05265839e-01, 0.00000000e+00, 0.00000000e+00, ...,\n",
       "        2.40435938e-03, 0.00000000e+00, 0.00000000e+00],\n",
       "       [7.70948758e-01, 0.00000000e+00, 0.00000000e+00, ...,\n",
       "        0.00000000e+00, 0.00000000e+00, 0.00000000e+00],\n",
       "       [3.78664401e-01, 5.96291301e-01, 5.96291301e-01, ...,\n",
       "        1.39003949e-03, 0.00000000e+00, 0.00000000e+00],\n",
       "       ...,\n",
       "       [1.02348570e-01, 0.00000000e+00, 0.00000000e+00, ...,\n",
       "        2.21055227e-04, 0.00000000e+00, 0.00000000e+00],\n",
       "       [5.55464461e-01, 0.00000000e+00, 0.00000000e+00, ...,\n",
       "        1.66306725e-03, 0.00000000e+00, 0.00000000e+00],\n",
       "       [7.43950932e-01, 0.00000000e+00, 0.00000000e+00, ...,\n",
       "        2.22739800e-03, 0.00000000e+00, 0.00000000e+00]])"
      ]
     },
     "execution_count": 258,
     "metadata": {},
     "output_type": "execute_result"
    }
   ],
   "source": [
    "normalize(user_df)"
   ]
  },
  {
   "cell_type": "code",
   "execution_count": 260,
   "metadata": {},
   "outputs": [],
   "source": [
    "tsne = TSNE()"
   ]
  },
  {
   "cell_type": "code",
   "execution_count": 261,
   "metadata": {},
   "outputs": [],
   "source": [
    "udf_viz = tsne.fit_transform(user_df)"
   ]
  },
  {
   "cell_type": "code",
   "execution_count": 264,
   "metadata": {},
   "outputs": [
    {
     "data": {
      "text/plain": [
       "<matplotlib.axes._subplots.AxesSubplot at 0x29c09aca8d0>"
      ]
     },
     "execution_count": 264,
     "metadata": {},
     "output_type": "execute_result"
    },
    {
     "data": {
      "image/png": "[encoded data removed]",
      "text/plain": [
       "<Figure size 432x288 with 1 Axes>"
      ]
     },
     "metadata": {
      "needs_background": "light"
     },
     "output_type": "display_data"
    }
   ],
   "source": [
    "sns.scatterplot(x=udf_viz[:,0], y=udf_viz[:,1])"
   ]
  },
  {
   "cell_type": "code",
   "execution_count": null,
   "metadata": {},
   "outputs": [],
   "source": []
  }
 ],
 "metadata": {
  "kernelspec": {
   "display_name": "py36-test",
   "language": "python",
   "name": "py36-test"
  },
  "language_info": {
   "codemirror_mode": {
    "name": "ipython",
    "version": 3
   },
   "file_extension": ".py",
   "mimetype": "text/x-python",
   "name": "python",
   "nbconvert_exporter": "python",
   "pygments_lexer": "ipython3",
   "version": "3.6.10"
  }
 },
 "nbformat": 4,
 "nbformat_minor": 2
}
